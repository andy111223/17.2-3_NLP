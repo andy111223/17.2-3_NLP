{
  "nbformat": 4,
  "nbformat_minor": 0,
  "metadata": {
    "colab": {
      "provenance": [],
      "gpuType": "V28"
    },
    "kernelspec": {
      "name": "python3",
      "display_name": "Python 3"
    },
    "language_info": {
      "name": "python"
    },
    "accelerator": "TPU"
  },
  "cells": [
    {
      "cell_type": "code",
      "execution_count": 3,
      "metadata": {
        "colab": {
          "base_uri": "https://localhost:8080/"
        },
        "id": "5bJ2P6trKq5l",
        "outputId": "b6556ed4-6da7-4c2c-9010-9142afb34d98"
      },
      "outputs": [
        {
          "output_type": "stream",
          "name": "stdout",
          "text": [
            "Mounted at /content/drive\n"
          ]
        }
      ],
      "source": [
        "from google.colab import drive\n",
        "drive.mount('/content/drive')"
      ]
    },
    {
      "cell_type": "markdown",
      "source": [
        "# Random Forest\n",
        "\n",
        "## Imports & Basic Data Setup"
      ],
      "metadata": {
        "id": "cvGzNMbkN126"
      }
    },
    {
      "cell_type": "code",
      "source": [
        "import numpy as np\n",
        "import pandas as pd\n",
        "import string\n",
        "import nltk\n",
        "import matplotlib.pyplot as plt\n",
        "\n",
        "# Sklearn\n",
        "from sklearn.model_selection import train_test_split, GridSearchCV\n",
        "from sklearn.preprocessing import StandardScaler\n",
        "from sklearn.ensemble import RandomForestClassifier\n",
        "from sklearn.metrics import classification_report, confusion_matrix\n",
        "from sklearn.feature_extraction.text import TfidfVectorizer\n",
        "\n",
        "# NLTK dependencies\n",
        "nltk.download('punkt')\n",
        "nltk.download('stopwords')\n",
        "nltk.download('wordnet')\n",
        "\n",
        "# Data loading (spam_dataset is already loaded as per instructions)\n",
        "spam_dataset = pd.read_csv('/content/drive/MyDrive/data/spam.csv', encoding = \"ISO-8859-1\", usecols=[0, 1], names=['Spam', 'Text'],\n",
        "                           skiprows=1)\n",
        "spam_dataset['Spam'] = spam_dataset['Spam'].replace(['ham', 'spam'], [0, 1])\n",
        "spam_dataset\n",
        "print(spam_dataset.head())\n",
        "print(spam_dataset.info())\n",
        "print(spam_dataset['Spam'].value_counts())\n"
      ],
      "metadata": {
        "colab": {
          "base_uri": "https://localhost:8080/"
        },
        "id": "RqZNJ4woMc4c",
        "outputId": "36416516-ddbe-4c4c-a47f-fa44e0260fe7"
      },
      "execution_count": 7,
      "outputs": [
        {
          "output_type": "stream",
          "name": "stderr",
          "text": [
            "[nltk_data] Downloading package punkt to /root/nltk_data...\n",
            "[nltk_data]   Unzipping tokenizers/punkt.zip.\n"
          ]
        },
        {
          "output_type": "stream",
          "name": "stdout",
          "text": [
            "   Spam                                               Text\n",
            "0     0  Go until jurong point, crazy.. Available only ...\n",
            "1     0                      Ok lar... Joking wif u oni...\n",
            "2     1  Free entry in 2 a wkly comp to win FA Cup fina...\n",
            "3     0  U dun say so early hor... U c already then say...\n",
            "4     0  Nah I don't think he goes to usf, he lives aro...\n",
            "<class 'pandas.core.frame.DataFrame'>\n",
            "RangeIndex: 5572 entries, 0 to 5571\n",
            "Data columns (total 2 columns):\n",
            " #   Column  Non-Null Count  Dtype \n",
            "---  ------  --------------  ----- \n",
            " 0   Spam    5572 non-null   int64 \n",
            " 1   Text    5572 non-null   object\n",
            "dtypes: int64(1), object(1)\n",
            "memory usage: 87.2+ KB\n",
            "None\n",
            "Spam\n",
            "0    4825\n",
            "1     747\n",
            "Name: count, dtype: int64\n"
          ]
        },
        {
          "output_type": "stream",
          "name": "stderr",
          "text": [
            "[nltk_data] Downloading package stopwords to /root/nltk_data...\n",
            "[nltk_data]   Unzipping corpora/stopwords.zip.\n",
            "[nltk_data] Downloading package wordnet to /root/nltk_data...\n",
            "<ipython-input-7-14af0b7468ec>:22: FutureWarning: Downcasting behavior in `replace` is deprecated and will be removed in a future version. To retain the old behavior, explicitly call `result.infer_objects(copy=False)`. To opt-in to the future behavior, set `pd.set_option('future.no_silent_downcasting', True)`\n",
            "  spam_dataset['Spam'] = spam_dataset['Spam'].replace(['ham', 'spam'], [0, 1])\n"
          ]
        }
      ]
    },
    {
      "cell_type": "markdown",
      "source": [
        "## Text Preprocessing"
      ],
      "metadata": {
        "id": "e58fBVqEOd5u"
      }
    },
    {
      "cell_type": "code",
      "source": [
        "import numpy as np\n",
        "import pandas as pd\n",
        "import string\n",
        "import nltk\n",
        "import matplotlib.pyplot as plt\n",
        "\n",
        "# Sklearn\n",
        "from sklearn.model_selection import train_test_split, GridSearchCV\n",
        "from sklearn.preprocessing import StandardScaler\n",
        "from sklearn.ensemble import RandomForestClassifier\n",
        "from sklearn.metrics import classification_report, confusion_matrix\n",
        "from sklearn.feature_extraction.text import TfidfVectorizer\n",
        "\n",
        "# NLTK dependencies\n",
        "nltk.download('punkt')\n",
        "nltk.download('stopwords')\n",
        "nltk.download('wordnet')\n",
        "nltk.download('punkt_tab') # This line has been added to download the necessary resource\n",
        "\n",
        "# Data loading\n",
        "spam_dataset = pd.read_csv('/content/drive/MyDrive/data/spam.csv', encoding = \"ISO-8859-1\", usecols=[0, 1], names=['Spam', 'Text'],\n",
        "                           skiprows=1)\n",
        "spam_dataset['Spam'] = spam_dataset['Spam'].replace(['ham', 'spam'], [0, 1])\n",
        "spam_dataset\n",
        "print(spam_dataset.head())\n",
        "print(spam_dataset.info())\n",
        "print(spam_dataset['Spam'].value_counts())"
      ],
      "metadata": {
        "colab": {
          "base_uri": "https://localhost:8080/"
        },
        "id": "SZU3FrlfOUZ3",
        "outputId": "7fd4f4ca-e29e-4c3b-db21-de62c41e34ed"
      },
      "execution_count": 10,
      "outputs": [
        {
          "output_type": "stream",
          "name": "stdout",
          "text": [
            "   Spam                                               Text\n",
            "0     0  Go until jurong point, crazy.. Available only ...\n",
            "1     0                      Ok lar... Joking wif u oni...\n",
            "2     1  Free entry in 2 a wkly comp to win FA Cup fina...\n",
            "3     0  U dun say so early hor... U c already then say...\n",
            "4     0  Nah I don't think he goes to usf, he lives aro...\n",
            "<class 'pandas.core.frame.DataFrame'>\n",
            "RangeIndex: 5572 entries, 0 to 5571\n",
            "Data columns (total 2 columns):\n",
            " #   Column  Non-Null Count  Dtype \n",
            "---  ------  --------------  ----- \n",
            " 0   Spam    5572 non-null   int64 \n",
            " 1   Text    5572 non-null   object\n",
            "dtypes: int64(1), object(1)\n",
            "memory usage: 87.2+ KB\n",
            "None\n",
            "Spam\n",
            "0    4825\n",
            "1     747\n",
            "Name: count, dtype: int64\n"
          ]
        },
        {
          "output_type": "stream",
          "name": "stderr",
          "text": [
            "[nltk_data] Downloading package punkt to /root/nltk_data...\n",
            "[nltk_data]   Package punkt is already up-to-date!\n",
            "[nltk_data] Downloading package stopwords to /root/nltk_data...\n",
            "[nltk_data]   Package stopwords is already up-to-date!\n",
            "[nltk_data] Downloading package wordnet to /root/nltk_data...\n",
            "[nltk_data]   Package wordnet is already up-to-date!\n",
            "[nltk_data] Downloading package punkt_tab to /root/nltk_data...\n",
            "[nltk_data]   Package punkt_tab is already up-to-date!\n",
            "<ipython-input-10-c4d64f4092c9>:23: FutureWarning: Downcasting behavior in `replace` is deprecated and will be removed in a future version. To retain the old behavior, explicitly call `result.infer_objects(copy=False)`. To opt-in to the future behavior, set `pd.set_option('future.no_silent_downcasting', True)`\n",
            "  spam_dataset['Spam'] = spam_dataset['Spam'].replace(['ham', 'spam'], [0, 1])\n"
          ]
        }
      ]
    },
    {
      "cell_type": "code",
      "source": [
        "import re\n",
        "from nltk.corpus import stopwords\n",
        "from nltk.stem import WordNetLemmatizer\n",
        "\n",
        "nltk.download('punkt')\n",
        "nltk.download('stopwords')\n",
        "nltk.download('wordnet')\n",
        "\n",
        "def clean_text(text):\n",
        "  \"\"\"\n",
        "  Cleans the input text by removing punctuation, lowercasing,\n",
        "  removing stop words, and lemmatizing.\n",
        "\n",
        "  Args:\n",
        "    text: The input text string.\n",
        "\n",
        "  Returns:\n",
        "    The cleaned text string.\n",
        "  \"\"\"\n",
        "  # Remove punctuation and lowercase\n",
        "  text = text.translate(str.maketrans('', '', string.punctuation)).lower()\n",
        "\n",
        "  # Tokenize\n",
        "  tokens = nltk.word_tokenize(text)\n",
        "\n",
        "  # Remove stop words and lemmatize\n",
        "  stop_words = set(stopwords.words('english'))\n",
        "  lemmatizer = WordNetLemmatizer()\n",
        "  cleaned_tokens = [lemmatizer.lemmatize(word) for word in tokens if word.isalnum() and word not in stop_words]\n",
        "\n",
        "  return ' '.join(cleaned_tokens)\n",
        "\n",
        "# Apply the cleaning function to create a new 'Cleaned' column\n",
        "spam_dataset['Cleaned'] = spam_dataset['Text'].apply(clean_text)"
      ],
      "metadata": {
        "colab": {
          "base_uri": "https://localhost:8080/"
        },
        "id": "e19llVXkPjWO",
        "outputId": "4c8a7fdb-0180-4391-b79b-3f79b9614404"
      },
      "execution_count": 12,
      "outputs": [
        {
          "output_type": "stream",
          "name": "stderr",
          "text": [
            "[nltk_data] Downloading package punkt to /root/nltk_data...\n",
            "[nltk_data]   Package punkt is already up-to-date!\n",
            "[nltk_data] Downloading package stopwords to /root/nltk_data...\n",
            "[nltk_data]   Package stopwords is already up-to-date!\n",
            "[nltk_data] Downloading package wordnet to /root/nltk_data...\n",
            "[nltk_data]   Package wordnet is already up-to-date!\n"
          ]
        }
      ]
    },
    {
      "cell_type": "markdown",
      "source": [
        "## TF-IDF Vectorization & Train/Test Split"
      ],
      "metadata": {
        "id": "roD1_omePDrQ"
      }
    },
    {
      "cell_type": "code",
      "source": [
        "# Vectorize\n",
        "tfidf = TfidfVectorizer(min_df=0.001, max_df=0.5, ngram_range=(1,1), use_idf=True)\n",
        "X_all = tfidf.fit_transform(spam_dataset['Cleaned'])\n",
        "y_all = spam_dataset['Spam']\n",
        "\n",
        "print(\"Shape of TF-IDF matrix:\", X_all.shape)\n",
        "\n",
        "# Stratified Split\n",
        "X_train, X_test, y_train, y_test = train_test_split(\n",
        "    X_all, y_all, test_size=0.3, random_state=42, stratify=y_all\n",
        ")\n"
      ],
      "metadata": {
        "colab": {
          "base_uri": "https://localhost:8080/"
        },
        "id": "n5QvKJ3bOnre",
        "outputId": "770f4ee6-6ccf-4e4b-eab0-be32b1c92055"
      },
      "execution_count": 13,
      "outputs": [
        {
          "output_type": "stream",
          "name": "stdout",
          "text": [
            "Shape of TF-IDF matrix: (5572, 1352)\n"
          ]
        }
      ]
    },
    {
      "cell_type": "markdown",
      "source": [
        "## Random Forest + Feature Importances + Feature Selection"
      ],
      "metadata": {
        "id": "EvyF4LJhQGY9"
      }
    },
    {
      "cell_type": "code",
      "source": [
        "# Train a basic RF\n",
        "rf_base = RandomForestClassifier(random_state=42)\n",
        "rf_base.fit(X_train, y_train)\n",
        "\n",
        "print(\"Base RF Accuracy on Train:\", rf_base.score(X_train, y_train))\n",
        "print(\"Base RF Accuracy on Test :\", rf_base.score(X_test, y_test))\n",
        "\n",
        "# Extract feature importances\n",
        "importances = rf_base.feature_importances_  # array length = number of columns\n",
        "feature_names = tfidf.get_feature_names_out()\n",
        "\n",
        "# Select features with importance > 0.001\n",
        "selected_indices = [i for i, imp in enumerate(importances) if imp > 0.001]\n",
        "print(\"Selected features count:\", len(selected_indices))\n",
        "\n",
        "# Reduce X_train, X_test to only those columns\n",
        "X_train_sel = X_train[:, selected_indices]\n",
        "X_test_sel  = X_test[:, selected_indices]\n"
      ],
      "metadata": {
        "colab": {
          "base_uri": "https://localhost:8080/"
        },
        "id": "zO9SQizhQDUj",
        "outputId": "2019e49d-ac6d-4209-8b47-c6da5f865319"
      },
      "execution_count": 15,
      "outputs": [
        {
          "output_type": "stream",
          "name": "stdout",
          "text": [
            "Base RF Accuracy on Train: 0.9997435897435898\n",
            "Base RF Accuracy on Test : 0.979066985645933\n",
            "Selected features count: 185\n"
          ]
        }
      ]
    },
    {
      "cell_type": "code",
      "source": [
        "param_grid = {\n",
        "    \"n_estimators\": [50, 100],\n",
        "    \"max_depth\": [5, 10, None],\n",
        "    \"min_samples_split\": [2, 5]\n",
        "}\n",
        "\n",
        "rf_gs = GridSearchCV(\n",
        "    RandomForestClassifier(random_state=42),\n",
        "    param_grid,\n",
        "    cv=5,\n",
        "    scoring=\"f1_macro\",\n",
        "    n_jobs=-1\n",
        ")\n",
        "rf_gs.fit(X_train_sel, y_train)\n",
        "\n",
        "print(\"Best Params:\", rf_gs.best_params_)\n",
        "best_rf = rf_gs.best_estimator_\n",
        "\n",
        "# Evaluate on test set\n",
        "y_pred_test = best_rf.predict(X_test_sel)\n",
        "\n",
        "print(\"\\n=== Final Model Scores ===\")\n",
        "print(\"Accuracy on test:\", best_rf.score(X_test_sel, y_test))\n",
        "print(classification_report(y_test, y_pred_test))\n",
        "\n",
        "# Confusion Matrix\n",
        "cm = confusion_matrix(y_test, y_pred_test)\n",
        "plt.imshow(cm, cmap='Blues')\n",
        "plt.title(\"Confusion Matrix\")\n",
        "plt.colorbar()\n",
        "plt.xlabel(\"Predicted Label\")\n",
        "plt.ylabel(\"True Label\")\n",
        "plt.show()\n"
      ],
      "metadata": {
        "colab": {
          "base_uri": "https://localhost:8080/",
          "height": 698
        },
        "id": "a_GSAa5jPGm8",
        "outputId": "1f913cee-2c06-4ac4-c8f6-89304fec45de"
      },
      "execution_count": 16,
      "outputs": [
        {
          "output_type": "stream",
          "name": "stdout",
          "text": [
            "Best Params: {'max_depth': None, 'min_samples_split': 5, 'n_estimators': 100}\n",
            "\n",
            "=== Final Model Scores ===\n",
            "Accuracy on test: 0.9754784688995215\n",
            "              precision    recall  f1-score   support\n",
            "\n",
            "           0       0.98      0.99      0.99      1448\n",
            "           1       0.96      0.86      0.90       224\n",
            "\n",
            "    accuracy                           0.98      1672\n",
            "   macro avg       0.97      0.93      0.94      1672\n",
            "weighted avg       0.98      0.98      0.97      1672\n",
            "\n"
          ]
        },
        {
          "output_type": "display_data",
          "data": {
            "text/plain": [
              "<Figure size 640x480 with 2 Axes>"
            ],
            "image/png": "[encoded data removed]"
          },
          "metadata": {}
        }
      ]
    },
    {
      "cell_type": "code",
      "source": [],
      "metadata": {
        "id": "rPiE4HwiQnc7"
      },
      "execution_count": null,
      "outputs": []
    }
  ]
}